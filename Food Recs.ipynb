{
 "cells": [
  {
   "cell_type": "code",
   "execution_count": 1,
   "metadata": {
    "collapsed": true
   },
   "outputs": [],
   "source": [
    "import foursquare\n",
    "import pandas as pd"
   ]
  },
  {
   "cell_type": "code",
   "execution_count": 3,
   "metadata": {},
   "outputs": [],
   "source": [
    "boba_places = pd.read_csv('./data/boba_final.csv')\n",
    "\n",
    "client = foursquare.Foursquare(client_id='your-key', client_secret='your-key')"
   ]
  },
  {
   "cell_type": "code",
   "execution_count": 4,
   "metadata": {
    "collapsed": true
   },
   "outputs": [],
   "source": [
    "boba_places[\"li\"] = boba_places['Lat'].map(str) + \", \" + boba_places['Longitude'].map(str)"
   ]
  },
  {
   "cell_type": "code",
   "execution_count": 5,
   "metadata": {
    "collapsed": true
   },
   "outputs": [],
   "source": [
    "boba_params = boba_places[['li', 'Name']]"
   ]
  },
  {
   "cell_type": "code",
   "execution_count": 6,
   "metadata": {
    "collapsed": true
   },
   "outputs": [],
   "source": [
    "params_list = boba_params.T.to_dict().values()"
   ]
  },
  {
   "cell_type": "code",
   "execution_count": 7,
   "metadata": {
    "collapsed": true
   },
   "outputs": [],
   "source": [
    "queries = []\n",
    "for i in params_list:\n",
    "    queries.append(client.venues.search(params={'ll': i['li'], 'query': i['Name']}))"
   ]
  },
  {
   "cell_type": "code",
   "execution_count": 8,
   "metadata": {
    "collapsed": true
   },
   "outputs": [],
   "source": [
    "ids = []\n",
    "tips_ids = {}\n",
    "for i in queries:\n",
    "    ids.append(i['venues'][0]['id'])\n",
    "    tips_ids[i['venues'][0]['id']] = []"
   ]
  },
  {
   "cell_type": "code",
   "execution_count": 9,
   "metadata": {
    "collapsed": true
   },
   "outputs": [],
   "source": [
    "tips = []\n",
    "for i in ids:\n",
    "    tips.append(client.venues.tips(VENUE_ID=i))"
   ]
  },
  {
   "cell_type": "code",
   "execution_count": 10,
   "metadata": {
    "collapsed": true
   },
   "outputs": [],
   "source": [
    "format_tips = []\n",
    "ind = 0 \n",
    "review_ids = []\n",
    "del tips[0]\n",
    "for i in tips:\n",
    "    for j in i['tips']['items']:\n",
    "        format_tips.append(j['text'])\n",
    "        tips_ids[ids[ind]].append(j['text'])\n",
    "        review_ids.append(ids[ind])\n",
    "    ind = ind + 1"
   ]
  }
 ],
 "metadata": {
  "kernelspec": {
   "display_name": "Python 3",
   "language": "python",
   "name": "python3"
  },
  "language_info": {
   "codemirror_mode": {
    "name": "ipython",
    "version": 3
   },
   "file_extension": ".py",
   "mimetype": "text/x-python",
   "name": "python",
   "nbconvert_exporter": "python",
   "pygments_lexer": "ipython3",
   "version": "3.6.3"
  }
 },
 "nbformat": 4,
 "nbformat_minor": 2
}
